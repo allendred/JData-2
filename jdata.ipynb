{
 "cells": [
  {
   "cell_type": "markdown",
   "metadata": {},
   "source": [
    "# JData\n",
    "\n",
    "## 数据整理部分\n",
    "\n",
    "先引入需要的库"
   ]
  },
  {
   "cell_type": "code",
   "execution_count": 1,
   "metadata": {
    "collapsed": true
   },
   "outputs": [],
   "source": [
    "import numpy as np\n",
    "import pandas as pd"
   ]
  },
  {
   "cell_type": "markdown",
   "metadata": {},
   "source": [
    "#### 整理用户数据。\n",
    "\n",
    "把年龄规范化。发现数据里有15岁以下、16-25岁、26-35岁、36-45岁、46-55岁、-1这几种数据。将它们定义为：\n",
    "\n",
    "{-1:-1,'15岁以下':0,'16-25岁':1,'26-35岁':2,'36-45岁':3,'46-55岁':4,'56岁以上':5}\n",
    "\n",
    "同时将3个数据异常的账户进行处理(数据为NULL的重新定义为-1)"
   ]
  },
  {
   "cell_type": "code",
   "execution_count": 3,
   "metadata": {
    "collapsed": false
   },
   "outputs": [],
   "source": [
    "def deal_age(str):\n",
    "    return str.replace(\"15岁以下\",\"0\").replace(\"16-25岁\",\"1\").replace(\"26-35岁\",\"2\").replace(\"36-45岁\",\"3\").replace(\"46-55岁\",\"4\").replace(\"56岁以上\",\"5\")\n",
    "\n",
    "g=file('./data/JData_User_new.csv','w+')\n",
    "with open('./data/JData_User.csv','r') as f:\n",
    "    line = f.readline()\n",
    "    while line:\n",
    "        line = deal_age(line).replace(\"NULL\",\"-1\")\n",
    "        g.writelines(line)\n",
    "        line = f.readline()\n",
    "    g.close()\n",
    "!rm ./data/JData_User.csv\n",
    "!mv ./data/JData_User_new.csv ./data/JData_User.csv"
   ]
  },
  {
   "cell_type": "markdown",
   "metadata": {},
   "source": [
    "#### 将数据载入pandas\n",
    "(如果前面不处理会报错)"
   ]
  },
  {
   "cell_type": "code",
   "execution_count": 10,
   "metadata": {
    "collapsed": false
   },
   "outputs": [
    {
     "name": "stdout",
     "output_type": "stream",
     "text": [
      "        user_id  age  sex  user_lv_cd user_reg_tm\n",
      "0        200001    5    2           5  2016-01-26\n",
      "1        200002   -1    0           1  2016-01-26\n",
      "2        200003    3    1           4  2016-01-26\n",
      "3        200004   -1    2           1  2016-01-26\n",
      "4        200005    1    0           4  2016-01-26\n",
      "5        200006    3    2           2  2013-04-10\n",
      "6        200007    3    2           3  2016-01-26\n",
      "7        200008   -1    2           3  2016-01-26\n",
      "8        200009    3    2           2  2016-01-26\n",
      "9        200010    3    2           3  2016-01-26\n",
      "10       200011   -1    0           5  2013-04-10\n",
      "11       200012    3    2           3  2013-04-10\n",
      "12       200013    2    2           4  2013-04-10\n",
      "13       200014    2    2           4  2013-04-10\n",
      "14       200015    2    1           3  2016-01-26\n",
      "15       200016    2    2           3  2016-01-26\n",
      "16       200017    3    2           4  2016-01-26\n",
      "17       200018    1    2           2  2016-01-26\n",
      "18       200019    1    2           2  2016-01-26\n",
      "19       200020   -1    2           2  2016-01-26\n",
      "20       200021    2    2           2  2016-01-26\n",
      "21       200022    2    0           5  2013-04-10\n",
      "22       200023    3    2           4  2016-01-26\n",
      "23       200024    3    2           3  2016-01-26\n",
      "24       200025    4    2           3  2013-04-10\n",
      "25       200026    2    2           2  2016-02-04\n",
      "26       200027    2    1           5  2013-04-10\n",
      "27       200028    1    2           4  2016-01-26\n",
      "28       200029   -1    2           2  2016-01-26\n",
      "29       200030   -1    2           2  2016-01-26\n",
      "...         ...  ...  ...         ...         ...\n",
      "105291   305292    2    2           4  2016-01-26\n",
      "105292   305293   -1    2           1  2016-01-26\n",
      "105293   305294    2    0           3  2016-01-26\n",
      "105294   305295    1    2           3  2016-01-26\n",
      "105295   305296    2    2           5  2016-01-26\n",
      "105296   305297    3    2           2  2016-01-26\n",
      "105297   305298   -1    2           2  2016-01-26\n",
      "105298   305299    2    0           4  2013-04-10\n",
      "105299   305300    3    2           3  2013-04-10\n",
      "105300   305301    5    2           5  2016-01-26\n",
      "105301   305302    2    2           3  2013-04-10\n",
      "105302   305303    2    2           2  2016-01-26\n",
      "105303   305304    3    0           4  2013-04-10\n",
      "105304   305305    3    2           4  2013-04-10\n",
      "105305   305306    3    2           2  2016-01-26\n",
      "105306   305307    3    1           4  2016-01-26\n",
      "105307   305308    3    0           4  2016-01-26\n",
      "105308   305309    3    2           3  2016-01-26\n",
      "105309   305310    3    0           2  2016-01-26\n",
      "105310   305311    1    2           1  2016-01-26\n",
      "105311   305312    2    0           5  2008-11-01\n",
      "105312   305313    1    1           3  2016-01-26\n",
      "105313   305314    2    1           5  2013-04-10\n",
      "105314   305315    3    2           2  2016-01-26\n",
      "105315   305316    3    1           2  2016-01-26\n",
      "105316   305317    2    2           4  2013-04-10\n",
      "105317   305318    3    2           3  2016-01-26\n",
      "105318   305319    2    0           3  2016-01-26\n",
      "105319   305320    3    2           2  2016-01-26\n",
      "105320   305321    3    2           3  2016-01-26\n",
      "\n",
      "[105321 rows x 5 columns]\n"
     ]
    }
   ],
   "source": [
    "def load_files():\n",
    "    global action_files,comment_file,product_file,user_file\n",
    "    action_files = [\"./data/JData_Action_201602.csv\",\"./data/JData_Action_201603.csv\",\"./data/JData_Action_201604.csv\"]\n",
    "    comment_file = \"./data/JData_Comment.csv\"\n",
    "    product_file = \"./data/JData_Product.csv\"\n",
    "    user_file = \"./data/JData_User.csv\"\n",
    "load_files()\n",
    "\n",
    "#加载用户数据\n",
    "user_data = pd.read_csv(user_file, header=0)\n",
    "\n",
    "print user_data\n",
    "#加载行为数据(报错了，内存不够，考虑其它解决方案)\n"
   ]
  },
  {
   "cell_type": "markdown",
   "metadata": {},
   "source": [
    "#### TODO"
   ]
  },
  {
   "cell_type": "code",
   "execution_count": null,
   "metadata": {
    "collapsed": true
   },
   "outputs": [],
   "source": []
  }
 ],
 "metadata": {
  "anaconda-cloud": {},
  "kernelspec": {
   "display_name": "Python [default]",
   "language": "python",
   "name": "python2"
  },
  "language_info": {
   "codemirror_mode": {
    "name": "ipython",
    "version": 2
   },
   "file_extension": ".py",
   "mimetype": "text/x-python",
   "name": "python",
   "nbconvert_exporter": "python",
   "pygments_lexer": "ipython2",
   "version": "2.7.12"
  }
 },
 "nbformat": 4,
 "nbformat_minor": 1
}
