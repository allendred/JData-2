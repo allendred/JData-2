{
 "cells": [
  {
   "cell_type": "markdown",
   "metadata": {},
   "source": [
    "分析"
   ]
  },
  {
   "cell_type": "code",
   "execution_count": 85,
   "metadata": {
    "collapsed": true
   },
   "outputs": [],
   "source": [
    "import numpy as np\n",
    "import pandas as pd\n",
    "from IPython.display import display\n",
    "%matplotlib inline"
   ]
  },
  {
   "cell_type": "code",
   "execution_count": 86,
   "metadata": {
    "collapsed": false
   },
   "outputs": [
    {
     "name": "stdout",
     "output_type": "stream",
     "text": [
      "Iteration is stopped, load success\n",
      "   user_id  sku_id                 time  model_id  type  cate  brand\n",
      "0   266079  138778  2016-01-31 23:59:02        -1     1     8    403\n",
      "1   266079  138778  2016-01-31 23:59:03         0     6     8    403\n",
      "2   266079  138778  2016-01-31 23:59:40         0     6     8    403\n",
      "3   266079  151327  2016-02-01 00:00:12        -1     1     8    403\n",
      "4   266079  151327  2016-02-01 00:00:13         0     6     8    403\n"
     ]
    }
   ],
   "source": [
    "#加载行为数据\n",
    "chunk_size = 1000000\n",
    "action_data = []\n",
    "\n",
    "\n",
    "reader = pd.read_csv(\"./data/action_data.csv\", iterator=True)\n",
    "chunk_loop = True\n",
    "while chunk_loop:\n",
    "    try:\n",
    "        action_data.append(reader.get_chunk(chunk_size))\n",
    "    except StopIteration:\n",
    "        chunk_loop = False\n",
    "        print\"Iteration is stopped, load success\"\n",
    "        \n",
    "action_data = pd.concat(action_data, ignore_index=True)\n",
    "print action_data.head(5)"
   ]
  },
  {
   "cell_type": "code",
   "execution_count": 19,
   "metadata": {
    "collapsed": false
   },
   "outputs": [],
   "source": [
    "import matplotlib.pyplot as plt\n",
    "from collections import Counter"
   ]
  },
  {
   "cell_type": "markdown",
   "metadata": {},
   "source": [
    "查看购买数量与时间的关系"
   ]
  },
  {
   "cell_type": "code",
   "execution_count": 45,
   "metadata": {
    "collapsed": false
   },
   "outputs": [
    {
     "name": "stdout",
     "output_type": "stream",
     "text": [
      "[{'2016-02-01': 537}, {'2016-02-02': 462}, {'2016-02-03': 356}, {'2016-02-04': 297}, {'2016-02-05': 178}, {'2016-02-06': 134}, {'2016-02-07': 107}, {'2016-02-08': 109}, {'2016-02-09': 127}, {'2016-02-10': 150}, {'2016-02-11': 219}, {'2016-02-12': 243}, {'2016-02-13': 328}, {'2016-02-14': 412}, {'2016-02-15': 488}, {'2016-02-16': 566}, {'2016-02-17': 631}, {'2016-02-18': 497}, {'2016-02-19': 513}, {'2016-02-20': 448}, {'2016-02-21': 401}, {'2016-02-22': 607}, {'2016-02-23': 522}, {'2016-02-24': 495}, {'2016-02-25': 554}, {'2016-02-26': 571}, {'2016-02-27': 515}, {'2016-02-28': 482}, {'2016-02-29': 500}, {'2016-03-01': 1137}, {'2016-03-02': 684}, {'2016-03-03': 634}, {'2016-03-04': 699}, {'2016-03-05': 563}, {'2016-03-06': 587}, {'2016-03-07': 1413}, {'2016-03-08': 750}, {'2016-03-09': 594}, {'2016-03-10': 927}, {'2016-03-11': 813}, {'2016-03-12': 703}, {'2016-03-13': 542}, {'2016-03-14': 1548}, {'2016-03-15': 2827}, {'2016-03-16': 1014}, {'2016-03-17': 552}, {'2016-03-18': 639}, {'2016-03-19': 530}, {'2016-03-20': 453}, {'2016-03-21': 655}, {'2016-03-22': 555}, {'2016-03-23': 495}, {'2016-03-24': 609}, {'2016-03-25': 841}, {'2016-03-26': 500}, {'2016-03-27': 506}, {'2016-03-28': 684}, {'2016-03-29': 737}, {'2016-03-30': 584}, {'2016-03-31': 674}, {'2016-04-01': 679}, {'2016-04-02': 566}, {'2016-04-03': 513}, {'2016-04-04': 529}, {'2016-04-05': 568}, {'2016-04-06': 534}, {'2016-04-07': 997}, {'2016-04-08': 1331}, {'2016-04-09': 851}, {'2016-04-10': 610}, {'2016-04-11': 681}, {'2016-04-12': 603}, {'2016-04-13': 700}, {'2016-04-14': 2112}, {'2016-04-15': 981}]\n"
     ]
    }
   ],
   "source": [
    "buy_info = action_data[action_data[\"type\"] == 4]\n",
    "def datetime2date(date):\n",
    "    return date.strftime('%Y-%m-%d')\n",
    "\n",
    "buy_date = dict(Counter(buy_info[\"time\"].astype(np.datetime64).apply(datetime2date)))\n",
    "buy_date = [{item[0]:item[1]} for item in sorted(buy_date.items(), key=lambda d:d[0])]\n",
    "print buy_date"
   ]
  },
  {
   "cell_type": "code",
   "execution_count": 92,
   "metadata": {
    "collapsed": false
   },
   "outputs": [
    {
     "data": {
      "text/plain": [
       "[<matplotlib.lines.Line2D at 0x11d0a0ad0>]"
      ]
     },
     "execution_count": 92,
     "metadata": {},
     "output_type": "execute_result"
    },
    {
     "data": {
      "image/png": "[encoded data removed]",
      "text/plain": [
       "<matplotlib.figure.Figure at 0x11d0a0890>"
      ]
     },
     "metadata": {},
     "output_type": "display_data"
    }
   ],
   "source": [
    "import matplotlib.dates as mdate\n",
    "\n",
    "\n",
    "fig, ax = plt.subplots()\n",
    "ax.xaxis.set_major_formatter(mdate.DateFormatter('%Y-%m-%d'))\n",
    "ax.plot_date([item.keys()[0] for item in buy_date],[item.values()[0] for item in buy_date],linestyle=\"-\",marker=\"None\")"
   ]
  },
  {
   "cell_type": "markdown",
   "metadata": {
    "collapsed": true
   },
   "source": [
    "除了3月15日受到315维权日的影响，以及4月14日受到活动的影响，一般的购买趋势是比较平缓的。为了需要预测4月16日到4月20日的购买情况，打算考虑10天的浏览、点击、收藏等情况来进行预测；使用数据平缓的3月22日至4月1日的情况来与4月1日到4月6日的购买情况组成训练集，在其中分割出交叉验证集。可以用2月13日到2月28日的数据进行测试"
   ]
  },
  {
   "cell_type": "code",
   "execution_count": null,
   "metadata": {
    "collapsed": true
   },
   "outputs": [],
   "source": []
  }
 ],
 "metadata": {
  "anaconda-cloud": {},
  "kernelspec": {
   "display_name": "Python [default]",
   "language": "python",
   "name": "python2"
  },
  "language_info": {
   "codemirror_mode": {
    "name": "ipython",
    "version": 2
   },
   "file_extension": ".py",
   "mimetype": "text/x-python",
   "name": "python",
   "nbconvert_exporter": "python",
   "pygments_lexer": "ipython2",
   "version": "2.7.12"
  }
 },
 "nbformat": 4,
 "nbformat_minor": 1
}
