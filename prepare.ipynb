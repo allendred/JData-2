{
 "cells": [
  {
   "cell_type": "markdown",
   "metadata": {},
   "source": [
    "# JData\n",
    "\n",
    "## 数据整理部分\n",
    "\n",
    "先引入需要的库"
   ]
  },
  {
   "cell_type": "code",
   "execution_count": 2,
   "metadata": {
    "collapsed": true
   },
   "outputs": [],
   "source": [
    "import numpy as np\n",
    "import pandas as pd"
   ]
  },
  {
   "cell_type": "markdown",
   "metadata": {},
   "source": [
    "#### 整理用户数据。\n",
    "\n",
    "把年龄规范化。发现数据里有15岁以下、16-25岁、26-35岁、36-45岁、46-55岁、-1这几种数据。将它们定义为：\n",
    "\n",
    "{-1:-1,'15岁以下':0,'16-25岁':1,'26-35岁':2,'36-45岁':3,'46-55岁':4,'56岁以上':5}\n",
    "\n",
    "同时将3个数据异常的账户进行处理(数据为NULL的重新定义为-1)"
   ]
  },
  {
   "cell_type": "code",
   "execution_count": 3,
   "metadata": {
    "collapsed": false
   },
   "outputs": [],
   "source": [
    "def deal_age(str):\n",
    "    return str.replace(\"15岁以下\",\"0\").replace(\"16-25岁\",\"1\").replace(\"26-35岁\",\"2\").replace(\"36-45岁\",\"3\").replace(\"46-55岁\",\"4\").replace(\"56岁以上\",\"5\")\n",
    "\n",
    "g=file('./data/JData_User_new.csv','w+')\n",
    "with open('./data/JData_User.csv','r') as f:\n",
    "    line = f.readline()\n",
    "    while line:\n",
    "        line = deal_age(line).replace(\"NULL\",\"-1\")\n",
    "        g.writelines(line)\n",
    "        line = f.readline()\n",
    "    g.close()\n",
    "!rm ./data/JData_User.csv\n",
    "!mv ./data/JData_User_new.csv ./data/JData_User.csv"
   ]
  },
  {
   "cell_type": "markdown",
   "metadata": {},
   "source": [
    "#### 将数据载入pandas\n",
    "(如果前面不处理会报错)"
   ]
  },
  {
   "cell_type": "code",
   "execution_count": 4,
   "metadata": {
    "collapsed": false
   },
   "outputs": [],
   "source": [
    "action_files = [\"./data/JData_Action_201602.csv\",\"./data/JData_Action_201603.csv\",\"./data/JData_Action_201604.csv\"]\n",
    "comment_file = \"./data/JData_Comment.csv\"\n",
    "product_file = \"./data/JData_Product.csv\"\n",
    "user_file = \"./data/JData_User.csv\""
   ]
  },
  {
   "cell_type": "markdown",
   "metadata": {},
   "source": [
    "加载大文件按照 http://blog.csdn.net/shuimuqingyi/article/details/44569435 的方法分chunk处理。\n",
    "\n",
    "\n",
    "加载大概需要30秒"
   ]
  },
  {
   "cell_type": "code",
   "execution_count": 102,
   "metadata": {
    "collapsed": false
   },
   "outputs": [
    {
     "name": "stdout",
     "output_type": "stream",
     "text": [
      "Iteration is stopped, loaded ./data/JData_Action_201602.csv\n",
      "Iteration is stopped, loaded ./data/JData_Action_201603.csv\n",
      "Iteration is stopped, loaded ./data/JData_Action_201604.csv\n",
      "    user_id  sku_id                 time  model_id  type  cate  brand\n",
      "0  266079.0  138778  2016-01-31 23:59:02       NaN     1     8    403\n",
      "1  266079.0  138778  2016-01-31 23:59:03       0.0     6     8    403\n",
      "2  200719.0   61226  2016-01-31 23:59:07       NaN     1     8     30\n",
      "3  200719.0   61226  2016-01-31 23:59:08       0.0     6     8     30\n",
      "4  263587.0   72348  2016-01-31 23:59:08       NaN     1     5    159\n"
     ]
    }
   ],
   "source": [
    "#加载行为数据\n",
    "chunk_size = 1000000\n",
    "action_data = []\n",
    "\n",
    "for f in action_files:\n",
    "    reader = pd.read_csv(f, iterator=True)\n",
    "    chunk_loop = True\n",
    "    while chunk_loop:\n",
    "        try:\n",
    "            action_data.append(reader.get_chunk(chunk_size))\n",
    "        except StopIteration:\n",
    "            chunk_loop = False\n",
    "            print\"Iteration is stopped, loaded \" + f\n",
    "\n",
    "action_data = pd.concat(action_data, ignore_index=True)\n",
    "print action_data.head(5)"
   ]
  },
  {
   "cell_type": "code",
   "execution_count": 103,
   "metadata": {
    "collapsed": false
   },
   "outputs": [
    {
     "name": "stdout",
     "output_type": "stream",
     "text": [
      "user_id     float64\n",
      "sku_id        int64\n",
      "time         object\n",
      "model_id    float64\n",
      "type          int64\n",
      "cate          int64\n",
      "brand         int64\n",
      "dtype: object\n"
     ]
    }
   ],
   "source": [
    "print action_data.dtypes"
   ]
  },
  {
   "cell_type": "code",
   "execution_count": 104,
   "metadata": {
    "collapsed": false
   },
   "outputs": [
    {
     "name": "stdout",
     "output_type": "stream",
     "text": [
      "   user_id  sku_id                 time  model_id  type  cate  brand\n",
      "0   266079  138778  2016-01-31 23:59:02        -1     1     8    403\n",
      "1   266079  138778  2016-01-31 23:59:03         0     6     8    403\n",
      "2   200719   61226  2016-01-31 23:59:07        -1     1     8     30\n",
      "3   200719   61226  2016-01-31 23:59:08         0     6     8     30\n",
      "4   263587   72348  2016-01-31 23:59:08        -1     1     5    159\n",
      "----\n",
      "user_id      int64\n",
      "sku_id       int64\n",
      "time        object\n",
      "model_id     int64\n",
      "type         int64\n",
      "cate         int64\n",
      "brand        int64\n",
      "dtype: object\n"
     ]
    }
   ],
   "source": [
    "#处理数据结构，并将为NaN的model_id更换为-1\n",
    "action_data[\"model_id\"] = action_data[\"model_id\"].fillna(value = -1.0)\n",
    "\n",
    "action_data[[\"user_id\",\"model_id\"]] = action_data[[\"user_id\",\"model_id\"]].astype(int)\n",
    "print action_data.head(5)\n",
    "print \"----\"\n",
    "print action_data.dtypes"
   ]
  },
  {
   "cell_type": "code",
   "execution_count": 108,
   "metadata": {
    "collapsed": false
   },
   "outputs": [
    {
     "name": "stdout",
     "output_type": "stream",
     "text": [
      "   user_id  age  sex  user_lv_cd user_reg_tm\n",
      "0   200001    5    2           5  2016-01-26\n",
      "1   200002   -1    0           1  2016-01-26\n",
      "2   200003    3    1           4  2016-01-26\n",
      "3   200004   -1    2           1  2016-01-26\n",
      "4   200005    1    0           4  2016-01-26\n",
      "现在有105321条用户数据\n"
     ]
    }
   ],
   "source": [
    "#导入用户信息\n",
    "user_data = pd.read_csv(user_file)\n",
    "print user_data.head(5)\n",
    "print \"现在有\" + str(user_data[\"user_id\"].count()) + \"条用户数据\""
   ]
  },
  {
   "cell_type": "markdown",
   "metadata": {},
   "source": [
    "分析用户数据，大概要用10分钟"
   ]
  },
  {
   "cell_type": "code",
   "execution_count": 114,
   "metadata": {
    "collapsed": false
   },
   "outputs": [],
   "source": [
    "#根据type统计数量\n",
    "from collections import Counter\n",
    "ad_backup = action_data.copy(deep = True)#拷贝一份行为输出出来，用于做用户数据分析。\n",
    "\n",
    "ad_backup = ad_backup.groupby([\"user_id\"],as_index=False)\n",
    "\n",
    "def countUserAction(group):\n",
    "    #将行为数据按用户分类统计\n",
    "    behave_counter = Counter(group[\"type\"])\n",
    "    group[\"browse\"] = behave_counter[1]#浏览数\n",
    "    group[\"cart\"] = behave_counter[2]#加入购物车数\n",
    "    group[\"delcart\"] = behave_counter[3]#从购物车删除数\n",
    "    group[\"buy\"] = behave_counter[4]#购买数\n",
    "    group[\"favorite\"] = behave_counter[5]#收藏数\n",
    "    group[\"click\"] = behave_counter[6]#点击数\n",
    "    return group[[\"user_id\",\"browse\",\"cart\",\"delcart\",\"buy\",\"favorite\",\"click\"]]\n",
    "    \n",
    "ad_backup = ad_backup.apply(countUserAction)"
   ]
  },
  {
   "cell_type": "code",
   "execution_count": 115,
   "metadata": {
    "collapsed": false
   },
   "outputs": [],
   "source": [
    "#太慢了，先备份一下\n",
    "ad_backup2 = ad_backup.copy(deep = True)"
   ]
  },
  {
   "cell_type": "code",
   "execution_count": 116,
   "metadata": {
    "collapsed": false
   },
   "outputs": [
    {
     "name": "stdout",
     "output_type": "stream",
     "text": [
      "现在有105180条数据\n"
     ]
    }
   ],
   "source": [
    "#去掉相同的user_id\n",
    "ad_backup2 = ad_backup2.drop_duplicates(\"user_id\")\n",
    "print \"现在有\" + str(ad_backup2[\"user_id\"].count()) + \"条数据\""
   ]
  },
  {
   "cell_type": "markdown",
   "metadata": {},
   "source": [
    "删除没有进行过操作的用户（添加购物车数、购买数、收藏数为0）"
   ]
  },
  {
   "cell_type": "code",
   "execution_count": 117,
   "metadata": {
    "collapsed": false
   },
   "outputs": [
    {
     "name": "stdout",
     "output_type": "stream",
     "text": [
      "现在有76982条数据\n"
     ]
    }
   ],
   "source": [
    "ad_backup2 = ad_backup2[(ad_backup2[\"cart\"]!=0)|(ad_backup2[\"buy\"]!=0)|(ad_backup2[\"favorite\"]!=0)]\n",
    "print \"现在有\" + str(ad_backup2[\"user_id\"].count()) + \"条数据\""
   ]
  },
  {
   "cell_type": "markdown",
   "metadata": {},
   "source": [
    "将用户信息与以上数据合并，存入一个csv文件中。"
   ]
  },
  {
   "cell_type": "code",
   "execution_count": 129,
   "metadata": {
    "collapsed": false
   },
   "outputs": [],
   "source": [
    "user_data = pd.merge(user_data,ad_backup2,on=\"user_id\")\n",
    "user_data.to_csv(\"./data/activity_user_data.csv\", index=False)"
   ]
  },
  {
   "cell_type": "markdown",
   "metadata": {},
   "source": [
    "同样，将行为数据根据以上数据进行筛选"
   ]
  },
  {
   "cell_type": "code",
   "execution_count": 132,
   "metadata": {
    "collapsed": false
   },
   "outputs": [
    {
     "name": "stdout",
     "output_type": "stream",
     "text": [
      "现在共有37347993条行为数据\n",
      "清理后还剩34157595条数据\n"
     ]
    }
   ],
   "source": [
    "action_data_col = action_data.columns\n",
    "print \"现在共有\"+str(action_data[\"user_id\"].count())+\"条行为数据\"\n",
    "cleaned_action_data = pd.merge(action_data,ad_backup2,on=\"user_id\")[action_data_col]\n",
    "print \"清理后还剩\"+str(cleaned_action_data[\"user_id\"].count())+\"条数据\""
   ]
  },
  {
   "cell_type": "markdown",
   "metadata": {},
   "source": [
    "将新的行为数据用csv文件保存。"
   ]
  },
  {
   "cell_type": "code",
   "execution_count": 134,
   "metadata": {
    "collapsed": false
   },
   "outputs": [],
   "source": [
    "cleaned_action_data.to_csv(\"./data/action_data.csv\", index=False)"
   ]
  },
  {
   "cell_type": "markdown",
   "metadata": {},
   "source": [
    "然后官方数据就没用了，早点删了腾硬盘。。"
   ]
  },
  {
   "cell_type": "code",
   "execution_count": 135,
   "metadata": {
    "collapsed": true
   },
   "outputs": [],
   "source": [
    "!rm ./original_data/JData*\n",
    "!rm ./data/JData_Action*\n",
    "!rm ./data/JData_User.csv"
   ]
  },
  {
   "cell_type": "markdown",
   "metadata": {},
   "source": [
    "然后处理商品和评论信息"
   ]
  },
  {
   "cell_type": "code",
   "execution_count": 140,
   "metadata": {
    "collapsed": false
   },
   "outputs": [
    {
     "name": "stdout",
     "output_type": "stream",
     "text": [
      "有24187条商品记录\n",
      "有558552条评论记录\n"
     ]
    }
   ],
   "source": [
    "product_data = pd.read_csv(product_file)[[\"sku_id\",\"cate\",\"brand\"]]\n",
    "comment_data = pd.read_csv(comment_file)\n",
    "print \"有\"+str(product_data[\"sku_id\"].count())+\"条商品记录\"\n",
    "print \"有\"+str(comment_data[\"sku_id\"].count())+\"条评论记录\""
   ]
  },
  {
   "cell_type": "code",
   "execution_count": 156,
   "metadata": {
    "collapsed": false
   },
   "outputs": [],
   "source": [
    "product_data = pd.merge(product_data,comment_data,on=\"sku_id\",how=\"left\")\n",
    "product_data.to_csv(\"./data/product_data.csv\",index=False)"
   ]
  },
  {
   "cell_type": "code",
   "execution_count": 157,
   "metadata": {
    "collapsed": true
   },
   "outputs": [],
   "source": [
    "!rm ./data/JData*"
   ]
  },
  {
   "cell_type": "markdown",
   "metadata": {},
   "source": [
    "现在所有的数据都已经被整理为三个csv文件，分别为\n",
    "\n",
    "商品与评价数据 product_data.csv(3.3MB)\n",
    "\n",
    "活跃用户数据 activity_user_data.csv(3MB)\n",
    "\n",
    "行为数据 action_data.csv(1.51GB)\n",
    "\n",
    "\n",
    "----\n",
    "\n",
    "它们的数据格式分别为：\n",
    "\n",
    "商品与评价数据\n",
    "\n",
    "| sku_id           | cate | brand | dt | comment_num | has_bad_comment | bad_comment_rate |\n",
    "|:-------------:|:------:|:------:|:------:|:------:|:------:|:------:|\n",
    "| 商品id | 分类      |品牌      |统计截止日期      |评价数量      | 是否有差评      | 差评率      |\n",
    "\n",
    "其中评价数量含义为\n",
    "0表示无评论，1表示有1条评论，\n",
    "\n",
    " 2表示有2-10条评论，\n",
    " \n",
    " 3表示有11-50条评论，\n",
    " \n",
    " 4表示大于50条评论\n",
    "\n",
    "\n",
    "----\n",
    "活跃用户数据\n",
    "\n",
    "| user_id    | age | sex | user_lv_cd | user_reg_tm | browse | cart |delcart |buy |favorite |click |\n",
    "|:-------------:|:------:|:------:|:------:|:------:|:------:|:------:|:------:|:------:|:------:|:------:|\n",
    "| 用户id | 年龄      |性别      |用户等级      |注册日期      | 查看商品次数      | 添加购物车次数      |删除购物车次数      |下单次数      |收藏次数      |点击次数      |\n",
    "\n",
    "\n",
    "其中年龄\n",
    "\n",
    "-1表示未知，\n",
    "\n",
    "0代表15岁以下，\n",
    "\n",
    "1代表16-25岁\n",
    "\n",
    "2代表26-35岁\n",
    "\n",
    "3代表36-45岁\n",
    "\n",
    "4代表46-55岁\n",
    "\n",
    "\n",
    "\n",
    "性别：\n",
    "0表示男，1表示女，2表示保密\n",
    "\n",
    "\n",
    "----\n",
    "行为数据\n",
    "\n",
    "user_id,sku_id,time,model_id,type,cate,brand\n",
    "\n",
    "| user_id           | sku_id | time | model_id | type | cate | brand |\n",
    "|:-------------:|:------:|:------:|:------:|:------:|:------:|:------:|\n",
    "| 用户id | 商品id      |时间      |点击模块      |行为类型      | 分类      | 品牌      |\n",
    "\n",
    "其中行为类型为\n",
    "1.浏览（指浏览商品详情页）；\n",
    " 2.加入购物车；3.购物车删除；4.下单；5.关注；6.点击"
   ]
  },
  {
   "cell_type": "code",
   "execution_count": 159,
   "metadata": {
    "collapsed": false
   },
   "outputs": [
    {
     "name": "stdout",
     "output_type": "stream",
     "text": [
      "Counter({2: 38024, 0: 32761, 1: 6194, -1: 3})\n"
     ]
    }
   ],
   "source": [
    "print Counter(user_data[\"sex\"])"
   ]
  },
  {
   "cell_type": "markdown",
   "metadata": {},
   "source": [
    "发现用户数据中性别有-1的，手动改成了2."
   ]
  }
 ],
 "metadata": {
  "anaconda-cloud": {},
  "kernelspec": {
   "display_name": "Python [default]",
   "language": "python",
   "name": "python2"
  },
  "language_info": {
   "codemirror_mode": {
    "name": "ipython",
    "version": 2
   },
   "file_extension": ".py",
   "mimetype": "text/x-python",
   "name": "python",
   "nbconvert_exporter": "python",
   "pygments_lexer": "ipython2",
   "version": "2.7.12"
  }
 },
 "nbformat": 4,
 "nbformat_minor": 1
}
